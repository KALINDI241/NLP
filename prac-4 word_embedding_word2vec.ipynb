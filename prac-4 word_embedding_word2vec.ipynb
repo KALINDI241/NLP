{
 "cells": [
  {
   "cell_type": "code",
   "execution_count": 10,
   "id": "abf1bc86",
   "metadata": {},
   "outputs": [],
   "source": [
    "import re\n",
    "import numpy as np\n",
    "import nltk\n",
    "from gensim.models import Word2Vec\n",
    "from nltk.corpus import gutenberg\n",
    "from multiprocessing import Pool\n",
    "from scipy import spatial"
   ]
  },
  {
   "cell_type": "code",
   "execution_count": 11,
   "id": "466aad40",
   "metadata": {},
   "outputs": [
    {
     "name": "stderr",
     "output_type": "stream",
     "text": [
      "[nltk_data] Downloading package gutenberg to\n",
      "[nltk_data]     C:\\Users\\om\\AppData\\Roaming\\nltk_data...\n",
      "[nltk_data]   Unzipping corpora\\gutenberg.zip.\n"
     ]
    },
    {
     "data": {
      "text/plain": [
       "True"
      ]
     },
     "execution_count": 11,
     "metadata": {},
     "output_type": "execute_result"
    }
   ],
   "source": [
    " nltk.download('gutenberg')"
   ]
  },
  {
   "cell_type": "code",
   "execution_count": 12,
   "id": "a68da93c",
   "metadata": {},
   "outputs": [],
   "source": [
    "sentences = list(gutenberg.sents('shakespeare-hamlet.txt'))"
   ]
  },
  {
   "cell_type": "code",
   "execution_count": 13,
   "id": "5ea5b862",
   "metadata": {},
   "outputs": [
    {
     "name": "stdout",
     "output_type": "stream",
     "text": [
      "Type of corpus:  <class 'list'>\n",
      "Length of corpus:  3106\n"
     ]
    }
   ],
   "source": [
    "print('Type of corpus: ', type(sentences))\n",
    "print('Length of corpus: ', len(sentences))"
   ]
  },
  {
   "cell_type": "code",
   "execution_count": 14,
   "id": "1e224fb8",
   "metadata": {},
   "outputs": [
    {
     "name": "stdout",
     "output_type": "stream",
     "text": [
      "['[', 'The', 'Tragedie', 'of', 'Hamlet', 'by', 'William', 'Shakespeare', '1599', ']']\n",
      "['Actus', 'Primus', '.']\n",
      "['Fran', '.']\n"
     ]
    }
   ],
   "source": [
    "print(sentences[0])    \n",
    "print(sentences[1])\n",
    "print(sentences[10])"
   ]
  },
  {
   "cell_type": "code",
   "execution_count": 15,
   "id": "e2909be4",
   "metadata": {},
   "outputs": [],
   "source": [
    "for i in range(len(sentences)):\n",
    "    sentences[i] = [word.lower() for word in sentences[i] if re.match('^[a-zA-Z]+', word)]"
   ]
  },
  {
   "cell_type": "code",
   "execution_count": 16,
   "id": "4235ffc4",
   "metadata": {},
   "outputs": [
    {
     "name": "stdout",
     "output_type": "stream",
     "text": [
      "['the', 'tragedie', 'of', 'hamlet', 'by', 'william', 'shakespeare']\n",
      "['actus', 'primus']\n",
      "['fran']\n"
     ]
    }
   ],
   "source": [
    "print(sentences[0])    \n",
    "print(sentences[1])\n",
    "print(sentences[10])"
   ]
  },
  {
   "cell_type": "code",
   "execution_count": 29,
   "id": "b42fd1fe",
   "metadata": {},
   "outputs": [],
   "source": [
    "model = Word2Vec.load('word2vec_model')"
   ]
  },
  {
   "cell_type": "code",
   "execution_count": 35,
   "id": "0cd006a6",
   "metadata": {},
   "outputs": [],
   "source": [
    "model = Word2Vec(sentences, window=5, min_count=1, workers=4)"
   ]
  },
  {
   "cell_type": "code",
   "execution_count": 36,
   "id": "b9c165e9",
   "metadata": {},
   "outputs": [
    {
     "data": {
      "text/plain": [
       "array([-0.10615327,  0.1377044 , -0.00345215, -0.03520356,  0.03369271,\n",
       "       -0.31626952,  0.14202657,  0.42964187, -0.06928825, -0.15141612,\n",
       "       -0.08263195, -0.32628736, -0.04106239,  0.09736771,  0.12395594,\n",
       "       -0.14195177,  0.14334153, -0.24788542, -0.1134256 , -0.4133051 ,\n",
       "        0.12971357,  0.10752058,  0.13401611, -0.09040814, -0.10248803,\n",
       "        0.12779795, -0.15688866, -0.0844309 , -0.21816467, -0.00188642,\n",
       "        0.16823891,  0.00379815,  0.03486762, -0.26679885, -0.16660902,\n",
       "        0.26476896, -0.01893825, -0.13391942, -0.06428936, -0.30435523,\n",
       "       -0.03671737, -0.1723894 , -0.05301518, -0.133918  ,  0.25746906,\n",
       "       -0.15536477, -0.23951371, -0.08708943,  0.07979023,  0.0770649 ,\n",
       "        0.09354012, -0.14167182, -0.16059113, -0.04332962, -0.06855521,\n",
       "        0.05103133,  0.14645891, -0.02078347, -0.25100535,  0.10345245,\n",
       "        0.01378392, -0.01410204, -0.01051088, -0.01818786, -0.16978624,\n",
       "        0.2371524 , -0.03749577,  0.10239255, -0.26617846,  0.15349923,\n",
       "       -0.05083035,  0.08239464,  0.16674985, -0.08608256,  0.2684579 ,\n",
       "        0.02570629,  0.03052626,  0.01107868, -0.23374988,  0.0085859 ,\n",
       "       -0.20262098, -0.01902167, -0.11035156,  0.29746178, -0.02189316,\n",
       "       -0.03559878,  0.11622556,  0.15146518,  0.2494001 , -0.02868186,\n",
       "        0.2549475 ,  0.0798951 ,  0.1184136 , -0.02050582,  0.24670085,\n",
       "        0.18246989,  0.1294461 , -0.15050247,  0.04832377,  0.06945599],\n",
       "      dtype=float32)"
      ]
     },
     "execution_count": 36,
     "metadata": {},
     "output_type": "execute_result"
    }
   ],
   "source": [
    "model.wv[\"king\"]"
   ]
  },
  {
   "cell_type": "code",
   "execution_count": 37,
   "id": "8a2e2a5f",
   "metadata": {},
   "outputs": [
    {
     "data": {
      "text/plain": [
       "[('me', 0.9993023872375488),\n",
       " ('the', 0.9992989897727966),\n",
       " ('d', 0.9992865324020386),\n",
       " ('i', 0.9992807507514954),\n",
       " ('thy', 0.9992753863334656),\n",
       " ('from', 0.9992715716362),\n",
       " ('of', 0.9992712736129761),\n",
       " ('with', 0.9992691278457642),\n",
       " ('so', 0.9992690682411194),\n",
       " ('in', 0.9992668628692627)]"
      ]
     },
     "execution_count": 37,
     "metadata": {},
     "output_type": "execute_result"
    }
   ],
   "source": [
    "model.wv.most_similar(\"king\")"
   ]
  },
  {
   "cell_type": "code",
   "execution_count": null,
   "id": "0ca4de28",
   "metadata": {},
   "outputs": [],
   "source": []
  }
 ],
 "metadata": {
  "kernelspec": {
   "display_name": "Python 3",
   "language": "python",
   "name": "python3"
  },
  "language_info": {
   "codemirror_mode": {
    "name": "ipython",
    "version": 3
   },
   "file_extension": ".py",
   "mimetype": "text/x-python",
   "name": "python",
   "nbconvert_exporter": "python",
   "pygments_lexer": "ipython3",
   "version": "3.8.9"
  }
 },
 "nbformat": 4,
 "nbformat_minor": 5
}
