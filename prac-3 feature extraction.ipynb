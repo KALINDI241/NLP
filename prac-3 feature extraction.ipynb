{
 "cells": [
  {
   "cell_type": "code",
   "execution_count": 2,
   "id": "1a1f9d21",
   "metadata": {},
   "outputs": [],
   "source": [
    "import nltk\n",
    "import pickle\n",
    "import json\n",
    "import re\n",
    "import pandas as pd\n",
    "import numpy as np"
   ]
  },
  {
   "cell_type": "code",
   "execution_count": 3,
   "id": "802d5596",
   "metadata": {},
   "outputs": [
    {
     "name": "stdout",
     "output_type": "stream",
     "text": [
      "['This planet belongs to all of us . Appreciate the work. Kudos to iamgurgaon citizens group.', 'After paying stamp duties, municipal tax and all othere taxs to govt. the citizens have to do everthing.🤦🤷\\u200d♂️', 'Love from Tamil nadu 💝  take more steps to save our world.', 'Breathtaking 🥰', 'Wow. Inspiring !', 'Excellent work from the children of kailas & agenta 🤗', \"Appreciable initiative. when citizens participate, govt's know not to ignore the citizens...\", 'Nice to see some concerned citizens and aspirants. Keep it up fellas.', 'Great work 🙏', 'Great work 👏 👍 👌', 'Jai Hind to all d volunteers', 'Thank god at least somebody is doing something about it. Best of luck.', 'your organisation deserve Grand salute', 'Feeling a bit secured now', 'Kudos to citizens of Gurgaon', 'Environment are mothers to protect human beings we need them so it is now a high time to protect them', 'Patna(Bihar) really need this.', 'Good initiative', 'Very good initiative', 'Gurugram is in up new it industry of India 😎', '♥️', '🙌🏻🙌🏻🤘🏻', 'Great', 'Govt is busy in doing g@#$%u things and normal citizens are talking the things in their own hands, even after paying so much money to the govt.', \"Interesting to see quint have uploaded only 2 videos the whole day... It's obvious thou... Jab khud ki phatt jati hai... Toh ache acho ki leti hai...😂😂😂😂😂😂....\", 'high respect for people who think like this.....', 'This planet belongs to all of us . Appreciate the work. Kudos to iamgurgaon citizens group.', 'After paying stamp duties, municipal tax and all othere taxs to govt. the citizens have to do everthing.🤦🤷\\u200d♂️', 'Love from Tamil nadu 💝  take more steps to save our world.', 'Breathtaking 🥰', 'Wow. Inspiring !', 'Excellent work from the children of kailas & agenta 🤗', \"Appreciable initiative. when citizens participate, govt's know not to ignore the citizens...\", 'Nice to see some concerned citizens and aspirants. Keep it up fellas.', 'Great work 🙏', 'Great work 👏 👍 👌', 'Jai Hind to all d volunteers', 'Thank god at least somebody is doing something about it. Best of luck.', 'your organisation deserve Grand salute', 'Feeling a bit secured now', 'Kudos to citizens of Gurgaon', 'Environment are mothers to protect human beings we need them so it is now a high time to protect them', 'Patna(Bihar) really need this.', 'Good initiative', 'Very good initiative', 'Gurugram is in up new it industry of India 😎', '♥️', '🙌🏻🙌🏻🤘🏻', 'Great', 'Govt is busy in doing g@#$%u things and normal citizens are talking the things in their own hands, even after paying so much money to the govt.', \"Interesting to see quint have uploaded only 2 videos the whole day... It's obvious thou... Jab khud ki phatt jati hai... Toh ache acho ki leti hai...😂😂😂😂😂😂....\", 'high respect for people who think like this.....', 'Kudos to you', 'Hope they are not following miyawaki method..\\nIt would have been better for the planet, if someone order lock down once a week', 'nice.', '😲😲😲😲😲😲🤩🤩🤩🤩🤩🤩🤩', 'yah sarkari kam tax payers ko karna hoga. tax bahro oor zhad b tax payers lagao. inka tax saara kisan subsidy me jata hai orr kisan parel jalaate hai, same environment ki watt lagate hi', 'Jai hind jai India', \"We must understand that tall skyscrapers and good roads are not enough to qualify for a smart city. There must be a significant patch of verdant surroundings to keep the city free of pollution and fresh air. These buildings and streets aren't going to give us the oxygen. Development has been reckless where builders always neglect green cover. They just want to extract their pound of profits.\", 'Waah fir 1000s cr ₹ kahaan jaata hai Jo ki development ke naam par allot kiya jaata hai?👿👿', 'Gurgaon contributes the most to Haryana exchequer. Then, the income taxes paid by people living here are a lot too.\\nWhere are our taxes going???', 'First', 'Urbanisation means jobs but no environment vice versa . Decide yourself\\n\\nPls illogical liberals duur rahe logical conversation Karna Bina Gali kai', 'H']\n"
     ]
    }
   ],
   "source": [
    "df = open(\"Gudgau.json\",'r')\n",
    "db=json.load(df)\n",
    "data=[]\n",
    "for i in range(0,len(db)):\n",
    "        #print(db[i]['Comment'])\n",
    "        data.append(db[i]['Comment'])\n",
    "print(data)"
   ]
  },
  {
   "cell_type": "code",
   "execution_count": 7,
   "id": "a804fe5c",
   "metadata": {},
   "outputs": [],
   "source": [
    "def tokenize_sentences(data):\n",
    "    words = []\n",
    "    for sentence in data:\n",
    "        w = extract_words(sentence)\n",
    "        words.extend(w)\n",
    "        \n",
    "    words = sorted(list(set(words)))\n",
    "    return words"
   ]
  },
  {
   "cell_type": "code",
   "execution_count": 8,
   "id": "f474603d",
   "metadata": {},
   "outputs": [],
   "source": [
    "def extract_words(sentence):\n",
    "    ignore_words = ['a']\n",
    "    words = re.sub(\"[^w]\", \" \",  sentence).split() \n",
    "    words_cleaned = [w.lower() for w in words if w not in ignore_words]\n",
    "    return words_cleaned"
   ]
  },
  {
   "cell_type": "code",
   "execution_count": 9,
   "id": "3295e009",
   "metadata": {},
   "outputs": [],
   "source": [
    "def bagofwords(sentence, words):\n",
    "    sentence_words = extract_words(sentence)\n",
    "    # frequency word count\n",
    "    bag = np.zeros(len(words))\n",
    "    for sw in sentence_words:\n",
    "        for i,word in enumerate(words):\n",
    "            if word == sw: \n",
    "                bag[i] += 1\n",
    "                \n",
    "    return np.array(bag)"
   ]
  },
  {
   "cell_type": "code",
   "execution_count": 12,
   "id": "a4ee642c",
   "metadata": {},
   "outputs": [
    {
     "data": {
      "text/plain": [
       "array([[0, 0, 0, 0, 0, 0, 0, 0, 0, 0, 0, 1, 0, 0, 0, 0, 0, 0, 0, 0, 0, 0,\n",
       "        0, 0, 0, 0, 0, 0, 0, 0, 0, 0, 0, 0, 2, 0, 0, 0, 0, 0, 0, 0, 0, 0,\n",
       "        0, 0, 0, 0, 0, 0, 0, 0, 0, 0, 0, 0, 0, 0, 0, 0, 0, 0, 0, 0, 0, 0,\n",
       "        0, 0, 0, 0, 0, 1, 0, 0, 0, 0, 0, 0, 0, 0, 0, 0, 0, 0, 0, 0, 0, 0,\n",
       "        0, 0, 0, 0, 1, 0, 0, 0, 0, 0, 1, 0, 0, 0, 0, 0, 0, 0, 0, 0, 0, 0,\n",
       "        0, 0, 0, 0, 0, 0, 0, 0, 0, 0, 0, 0, 0, 0, 1, 0, 0, 0, 0, 0, 0, 0,\n",
       "        0, 0, 0, 0, 0, 0, 0, 0, 0, 0, 0, 0, 0, 0, 0, 0, 0, 0, 0, 0, 0, 0,\n",
       "        0, 0, 0, 0, 1, 0, 0, 0, 0, 0, 0, 0, 0, 0, 0, 0, 0, 0, 0, 0, 0, 1,\n",
       "        0, 0, 0, 0, 0, 0, 0, 0, 0, 0, 0, 0, 0, 0, 0, 0, 0, 0, 0, 0, 0, 0,\n",
       "        0, 0, 0, 0, 0, 0, 0, 0, 0, 0, 0, 0, 0, 0, 0, 0, 0, 0, 0, 0, 0, 0,\n",
       "        0, 0, 0, 0, 1, 0, 0, 0, 0, 0, 0, 0, 0, 0, 0, 0, 1, 0, 0, 0, 0, 0,\n",
       "        0, 0, 0, 0, 0, 0, 0, 0, 0, 0, 0, 0, 0, 1, 0, 0, 0, 0, 0, 0, 0, 0,\n",
       "        0, 0, 0, 0],\n",
       "       [0, 0, 0, 0, 0, 0, 0, 0, 0, 0, 0, 0, 0, 0, 0, 0, 0, 0, 0, 0, 0, 0,\n",
       "        0, 0, 0, 0, 0, 0, 0, 0, 0, 0, 0, 0, 0, 0, 0, 0, 0, 0, 0, 0, 0, 0,\n",
       "        0, 0, 0, 0, 0, 0, 0, 0, 0, 0, 0, 0, 0, 0, 0, 0, 0, 0, 0, 0, 0, 0,\n",
       "        0, 0, 0, 0, 1, 0, 0, 0, 0, 0, 0, 0, 0, 0, 0, 0, 0, 0, 0, 0, 0, 0,\n",
       "        0, 0, 0, 0, 0, 0, 0, 0, 0, 0, 1, 0, 0, 0, 0, 0, 0, 0, 0, 0, 0, 0,\n",
       "        0, 0, 0, 0, 0, 0, 0, 0, 0, 0, 0, 0, 0, 0, 0, 0, 0, 0, 0, 0, 0, 0,\n",
       "        0, 0, 0, 0, 0, 0, 0, 0, 0, 0, 0, 0, 0, 0, 0, 0, 0, 0, 0, 0, 0, 0,\n",
       "        0, 0, 0, 0, 0, 0, 0, 0, 0, 0, 0, 0, 0, 0, 0, 0, 0, 0, 0, 0, 0, 0,\n",
       "        0, 0, 0, 0, 0, 0, 0, 0, 0, 0, 0, 0, 0, 0, 0, 0, 0, 0, 0, 0, 0, 0,\n",
       "        0, 0, 0, 0, 0, 0, 0, 0, 0, 0, 0, 0, 0, 0, 0, 0, 0, 0, 0, 0, 0, 0,\n",
       "        0, 0, 0, 0, 0, 0, 0, 0, 0, 0, 0, 0, 0, 0, 0, 0, 0, 0, 0, 0, 0, 0,\n",
       "        0, 0, 0, 0, 1, 0, 0, 0, 0, 0, 0, 0, 0, 0, 0, 0, 0, 0, 0, 0, 0, 0,\n",
       "        0, 0, 0, 0]], dtype=int64)"
      ]
     },
     "execution_count": 12,
     "metadata": {},
     "output_type": "execute_result"
    }
   ],
   "source": [
    "vocabulary = tokenize_sentences(data)\n",
    "bagofwords(\"Jai Hind to all d volunteers\", vocabulary)\n",
    "\n",
    "from sklearn.feature_extraction.text import CountVectorizer\n",
    "\n",
    "vectorizer = CountVectorizer(analyzer = \"word\", tokenizer = None, preprocessor = None, stop_words = None, max_features = 5000) \n",
    "\n",
    "train_data_features = vectorizer.fit_transform(data)\n",
    "\n",
    "vectorizer.transform([\"Appreciable initiative. when citizens participate, govt's know not to ignore the citizens...\",\"Very good initiative\"]).toarray()"
   ]
  },
  {
   "cell_type": "code",
   "execution_count": null,
   "id": "a0eca225",
   "metadata": {},
   "outputs": [],
   "source": []
  }
 ],
 "metadata": {
  "kernelspec": {
   "display_name": "Python 3",
   "language": "python",
   "name": "python3"
  },
  "language_info": {
   "codemirror_mode": {
    "name": "ipython",
    "version": 3
   },
   "file_extension": ".py",
   "mimetype": "text/x-python",
   "name": "python",
   "nbconvert_exporter": "python",
   "pygments_lexer": "ipython3",
   "version": "3.8.9"
  }
 },
 "nbformat": 4,
 "nbformat_minor": 5
}
