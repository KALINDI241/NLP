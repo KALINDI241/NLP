{
 "cells": [
  {
   "cell_type": "code",
   "execution_count": 1,
   "id": "a70f2811",
   "metadata": {},
   "outputs": [],
   "source": [
    "import nltk\n",
    "from nltk.corpus import stopwords\n",
    "from nltk.tokenize import word_tokenize, sent_tokenize\n",
    "stop_words = set(stopwords.words('english'))"
   ]
  },
  {
   "cell_type": "code",
   "execution_count": 11,
   "id": "0427a7fe",
   "metadata": {},
   "outputs": [],
   "source": [
    "txt = \"NLP is researching field.\"\\\n",
    "             \"NLP and ML changed the technological aspect drastically .\"\\\n",
    "             \"NLP stands for Natural Language Processing .\"\\\n",
    "             \"NLP oncerned with giving computers the ability to understand text and spoken words in much the same way human beings can .\"\\\n",
    "             \"NLP helps computers communicate with humans in their own language and scales other language-related tasks. \"\\\n",
    "             \"NLP and ML are both based on statistical learning\"\\\n",
    "             \"Knowledge of Math is fundamental in these type of fields.\""
   ]
  },
  {
   "cell_type": "code",
   "execution_count": 12,
   "id": "2c28715a",
   "metadata": {},
   "outputs": [],
   "source": [
    "tokenized = sent_tokenize(txt)"
   ]
  },
  {
   "cell_type": "code",
   "execution_count": 13,
   "id": "bc612317",
   "metadata": {},
   "outputs": [
    {
     "name": "stdout",
     "output_type": "stream",
     "text": [
      "[('NLP', 'NNP'), ('researching', 'VBG'), ('field.NLP', 'JJ'), ('ML', 'NNP'), ('changed', 'VBD'), ('technological', 'JJ'), ('aspect', 'NN'), ('drastically', 'RB'), ('.NLP', 'NNP'), ('stands', 'VBZ'), ('Natural', 'JJ'), ('Language', 'NNP'), ('Processing.NLP', 'NNP'), ('oncerned', 'VBD'), ('giving', 'VBG'), ('computers', 'NNS'), ('ability', 'NN'), ('understand', 'VBP'), ('text', 'NN'), ('spoken', 'NN'), ('words', 'NNS'), ('much', 'JJ'), ('way', 'NN'), ('human', 'JJ'), ('beings', 'NNS'), ('can.NLP', 'NN'), ('helps', 'VBZ'), ('computers', 'NNS'), ('communicate', 'VBP'), ('humans', 'NNS'), ('language', 'NN'), ('scales', 'VBZ'), ('language-related', 'JJ'), ('tasks', 'NNS'), ('.', '.')]\n",
      "[('NLP', 'NNP'), ('ML', 'NNP'), ('based', 'VBN'), ('statistical', 'JJ'), ('learningKnowledge', 'NN'), ('Math', 'NNP'), ('fundamental', 'JJ'), ('type', 'NN'), ('fields', 'NNS'), ('.', '.')]\n"
     ]
    }
   ],
   "source": [
    "for i in tokenized:\n",
    "\n",
    "    # Word tokenizers is used to find the words\n",
    "    # and punctuation in a string\n",
    "    wordsList = nltk.word_tokenize(i)\n",
    "\n",
    "    # removing stop words from wordList\n",
    "    wordsList = [w for w in wordsList if not w in stop_words]\n",
    "\n",
    "    # Using a Tagger. Which is part-of-speech\n",
    "    # tagger or POS-tagger.\n",
    "    tagged = nltk.pos_tag(wordsList)\n",
    "\n",
    "    print(tagged)"
   ]
  },
  {
   "cell_type": "code",
   "execution_count": null,
   "id": "a7d3b8fe",
   "metadata": {},
   "outputs": [],
   "source": []
  }
 ],
 "metadata": {
  "kernelspec": {
   "display_name": "Python 3",
   "language": "python",
   "name": "python3"
  },
  "language_info": {
   "codemirror_mode": {
    "name": "ipython",
    "version": 3
   },
   "file_extension": ".py",
   "mimetype": "text/x-python",
   "name": "python",
   "nbconvert_exporter": "python",
   "pygments_lexer": "ipython3",
   "version": "3.8.9"
  }
 },
 "nbformat": 4,
 "nbformat_minor": 5
}
