{
 "cells": [
  {
   "cell_type": "code",
   "execution_count": 1,
   "id": "20816dfc",
   "metadata": {},
   "outputs": [
    {
     "name": "stdout",
     "output_type": "stream",
     "text": [
      "Starting DataKund...\n"
     ]
    },
    {
     "name": "stderr",
     "output_type": "stream",
     "text": [
      "\r",
      "Progress:   0%|                                                                                | 0/200 [00:00<?, ?it/s]"
     ]
    }
   ],
   "source": [
    "from youtube_comment_scraper_python import *\n",
    "youtube.open(\"https://www.youtube.com/watch?v=C5duQyX7Gec\")\n",
    "response=youtube.video_comments()\n",
    "data=response['body']"
   ]
  },
  {
   "cell_type": "code",
   "execution_count": 3,
   "id": "2186e206",
   "metadata": {},
   "outputs": [
    {
     "name": "stdout",
     "output_type": "stream",
     "text": [
      "Collecting youtube_comment_scraper_python\n",
      "  Downloading youtube-comment-scraper-python-1.0.0.tar.gz (2.6 kB)\n",
      "Requirement already satisfied: requests in c:\\users\\om\\appdata\\local\\programs\\python\\python38\\lib\\site-packages (from youtube_comment_scraper_python) (2.25.1)\n",
      "Collecting bot-studio\n"
     ]
    },
    {
     "name": "stderr",
     "output_type": "stream",
     "text": [
      "WARNING: You are using pip version 21.2.4; however, version 21.3.1 is available.\n",
      "You should consider upgrading via the 'c:\\users\\om\\appdata\\local\\programs\\python\\python38\\python.exe -m pip install --upgrade pip' command.\n"
     ]
    },
    {
     "name": "stdout",
     "output_type": "stream",
     "text": [
      "  Downloading bot_studio-1.2.2.tar.gz (65.7 MB)\n",
      "Requirement already satisfied: tqdm in c:\\users\\om\\appdata\\local\\programs\\python\\python38\\lib\\site-packages (from bot-studio->youtube_comment_scraper_python) (4.61.1)\n",
      "Requirement already satisfied: urllib3<1.27,>=1.21.1 in c:\\users\\om\\appdata\\local\\programs\\python\\python38\\lib\\site-packages (from requests->youtube_comment_scraper_python) (1.26.5)\n",
      "Requirement already satisfied: idna<3,>=2.5 in c:\\users\\om\\appdata\\local\\programs\\python\\python38\\lib\\site-packages (from requests->youtube_comment_scraper_python) (2.10)\n",
      "Requirement already satisfied: certifi>=2017.4.17 in c:\\users\\om\\appdata\\local\\programs\\python\\python38\\lib\\site-packages (from requests->youtube_comment_scraper_python) (2021.5.30)\n",
      "Requirement already satisfied: chardet<5,>=3.0.2 in c:\\users\\om\\appdata\\local\\programs\\python\\python38\\lib\\site-packages (from requests->youtube_comment_scraper_python) (4.0.0)\n",
      "Building wheels for collected packages: youtube-comment-scraper-python, bot-studio\n",
      "  Building wheel for youtube-comment-scraper-python (setup.py): started\n",
      "  Building wheel for youtube-comment-scraper-python (setup.py): finished with status 'done'\n",
      "  Created wheel for youtube-comment-scraper-python: filename=youtube_comment_scraper_python-1.0.0-py3-none-any.whl size=2497 sha256=455e5b8eded45eabe9bc5dd8f97a3c26a884f3537d891fde477f744f5f84f94d\n",
      "  Stored in directory: c:\\users\\om\\appdata\\local\\pip\\cache\\wheels\\f8\\c2\\07\\62c6de3fa077a37e888eeec058dd6a057eeaec518fd2d740f4\n",
      "  Building wheel for bot-studio (setup.py): started\n",
      "  Building wheel for bot-studio (setup.py): finished with status 'done'\n",
      "  Created wheel for bot-studio: filename=bot_studio-1.2.2-py3-none-any.whl size=65730225 sha256=42e56ca23cdd21dda8c7b279b539578a9476293f5d237c4c05d3b5e8e86fa005\n",
      "  Stored in directory: c:\\users\\om\\appdata\\local\\pip\\cache\\wheels\\c4\\63\\8e\\0d2c1bca327617282ddf2855fedbaf561a95b9e78c37824776\n",
      "Successfully built youtube-comment-scraper-python bot-studio\n",
      "Installing collected packages: bot-studio, youtube-comment-scraper-python\n",
      "Successfully installed bot-studio-1.2.2 youtube-comment-scraper-python-1.0.0\n"
     ]
    }
   ],
   "source": [
    "! pip install youtube_comment_scraper_python"
   ]
  },
  {
   "cell_type": "code",
   "execution_count": 5,
   "id": "3822e365",
   "metadata": {},
   "outputs": [
    {
     "name": "stdout",
     "output_type": "stream",
     "text": [
      "[{'Comment': 'This planet belongs to all of us . Appreciate the work. Kudos to iamgurgaon citizens group.', 'Likes': '31', 'Time': '9 months ago (edited)', 'UserLink': '/channel/UCpH24tSZnFGAECI_ZCa7jJQ', 'user': 'Mohd Haris'}, {'Comment': 'After paying stamp duties, municipal tax and all othere taxs to govt. the citizens have to do everthing.🤦🤷\\u200d♂️', 'Likes': '25', 'Time': '9 months ago', 'UserLink': '/channel/UCoeRuAXZoweNJ7gGKrRO6BA', 'user': 'Rajesh Interpretations'}, {'Comment': 'Love from Tamil nadu 💝  take more steps to save our world.', 'Likes': '8', 'Time': '9 months ago', 'UserLink': '/channel/UCjMzPKARX8DO-MFyNtDU0Gg', 'user': 'Siva Prakash N'}, {'Comment': 'Breathtaking 🥰', 'Likes': '2', 'Time': '9 months ago', 'UserLink': '/channel/UCmDQ7gWhr-MYALNXX2j7g6g', 'user': 'sanaullah alom'}, {'Comment': 'Wow. Inspiring !', 'Likes': '2', 'Time': '9 months ago', 'UserLink': '/channel/UC0432RYG8A6JzNMX-XEFUOQ', 'user': 'Aditya Majumdar'}, {'Comment': 'Excellent work from the children of kailas & agenta 🤗', 'Likes': '0', 'Time': '9 months ago', 'UserLink': '/channel/UC7ZAr5wCN04sx2qF8HruJvw', 'user': 'Notin z 4 Ever'}, {'Comment': \"Appreciable initiative. when citizens participate, govt's know not to ignore the citizens...\", 'Likes': '1', 'Time': '8 months ago', 'UserLink': '/channel/UC3uN0f93nklPRte-xnjdEmw', 'user': 'Rohan Sharma'}, {'Comment': 'Nice to see some concerned citizens and aspirants. Keep it up fellas.', 'Likes': '0', 'Time': '2 months ago', 'UserLink': '/channel/UCZQ7CXT4PVow1bDwu2vnfIQ', 'user': 'mohit singh'}, {'Comment': 'Great work 🙏', 'Likes': '1', 'Time': '9 months ago', 'UserLink': '/channel/UCO21rnMrqqv8Q0HwUgslSOg', 'user': 'Rakesh Kumar'}, {'Comment': 'Great work 👏 👍 👌', 'Likes': '1', 'Time': '9 months ago', 'UserLink': '/channel/UCeCdfVsykTOrJ7JKSOeZogw', 'user': 'varun sinha'}, {'Comment': 'Jai Hind to all d volunteers', 'Likes': '3', 'Time': '9 months ago', 'UserLink': '/channel/UC8IYRJlJMug8ndZ7N7meF1w', 'user': 'Abhishek Tarai'}, {'Comment': 'Thank god at least somebody is doing something about it. Best of luck.', 'Likes': '0', 'Time': '9 months ago', 'UserLink': '/channel/UCQ5KRi1OwyiMCO8BT7nkG5g', 'user': 'Maria Ekka'}, {'Comment': 'your organisation deserve Grand salute', 'Likes': '0', 'Time': '9 months ago', 'UserLink': '/channel/UCymaQzA_YFiIPjKH5FfYmyA', 'user': 'Assamese TXT'}, {'Comment': 'Feeling a bit secured now', 'Likes': '0', 'Time': '9 months ago', 'UserLink': '/channel/UChc3JdGQESaP77jRhkIB_EA', 'user': 'Mayank Garga'}, {'Comment': 'Kudos to citizens of Gurgaon', 'Likes': '1', 'Time': '9 months ago', 'UserLink': '/channel/UCamYZylHgwfJhYk8RGIC9Wg', 'user': 'Myn Gnax Enty'}, {'Comment': 'Environment are mothers to protect human beings we need them so it is now a high time to protect them', 'Likes': '0', 'Time': '8 months ago', 'UserLink': '/channel/UCkxjegT75e7KnwMl8dGDlHg', 'user': 'Ritesh Das'}, {'Comment': 'Patna(Bihar) really need this.', 'Likes': '0', 'Time': '9 months ago', 'UserLink': '/channel/UCEbIVoqIz3GgJnm0-Yj7kZQ', 'user': 'saif ullah'}, {'Comment': 'Good initiative', 'Likes': '0', 'Time': '9 months ago', 'UserLink': '/channel/UC36xhm8bGqQ8YO5FqEod3dw', 'user': 'Harshad K H'}, {'Comment': 'Very good initiative', 'Likes': '1', 'Time': '9 months ago', 'UserLink': '/channel/UC9R-nXwH-AAAY2bWmoTYbyg', 'user': 'OGGY AND FRNDS'}, {'Comment': 'Gurugram is in up new it industry of India 😎', 'Likes': '4', 'Time': '9 months ago', 'UserLink': '/channel/UCKLB7J-QPWEn96TQv_649rw', 'user': 'इन्द्र :'}, {'Comment': '♥️', 'Likes': '1', 'Time': '9 months ago', 'UserLink': '/channel/UCFCjli5Dm2bnwMz_cgj0tFg', 'user': 'Dakheel Majeed'}, {'Comment': '🙌🏻🙌🏻🤘🏻', 'Likes': '1', 'Time': '9 months ago', 'UserLink': '/channel/UCOsCOQMHsbJbAencTkdSuvw', 'user': 'Gaurav'}, {'Comment': 'Great', 'Likes': '0', 'Time': '9 months ago', 'UserLink': '/channel/UCnBMKt-y_9rg3NPurVdILAw', 'user': 'Zaffer Ali'}, {'Comment': 'Govt is busy in doing g@#$%u things and normal citizens are talking the things in their own hands, even after paying so much money to the govt.', 'Likes': '4', 'Time': '9 months ago', 'UserLink': '/channel/UCOxbNtZwBf-TSJhu9IAqfdQ', 'user': 'imran ahmad'}, {'Comment': \"Interesting to see quint have uploaded only 2 videos the whole day... It's obvious thou... Jab khud ki phatt jati hai... Toh ache acho ki leti hai...😂😂😂😂😂😂....\", 'Likes': '5', 'Time': '9 months ago', 'UserLink': '/channel/UCC-r2c4ptPokXMQj1Xk6pAw', 'user': 'Abhishek Dhumvad'}, {'Comment': 'high respect for people who think like this.....', 'Likes': '0', 'Time': '8 months ago', 'UserLink': '/channel/UChBLF5xUHimOsin3Lcd4nyw', 'user': 'Aju Aju'}, {'Comment': 'Kudos to you', 'Likes': '0', 'Time': '9 months ago', 'UserLink': '/channel/UCRD0esS2bceWv9f6Ypobvnw', 'user': 'Chumki Thakur'}, {'Comment': 'Hope they are not following miyawaki method..\\nIt would have been better for the planet, if someone order lock down once a week', 'Likes': '1', 'Time': '9 months ago (edited)', 'UserLink': '/channel/UCswmjNzVjYlw-QRFlHJx8fA', 'user': 'alka'}, {'Comment': 'nice.', 'Likes': '0', 'Time': '9 months ago', 'UserLink': '/channel/UCTwLoSY77RIdROuO8H6cJ3A', 'user': 'krishnan agrawal'}, {'Comment': '😲😲😲😲😲😲🤩🤩🤩🤩🤩🤩🤩', 'Likes': '1', 'Time': '9 months ago', 'UserLink': '/channel/UCuK-v5xiuvBICoDVVHGB8JQ', 'user': 'Gaming shorts'}, {'Comment': 'yah sarkari kam tax payers ko karna hoga. tax bahro oor zhad b tax payers lagao. inka tax saara kisan subsidy me jata hai orr kisan parel jalaate hai, same environment ki watt lagate hi', 'Likes': '0', 'Time': '9 months ago', 'UserLink': '/channel/UCcqDWqhaexYZ-6TB5DEEC0g', 'user': 'Ambarish L'}, {'Comment': 'Jai hind jai India', 'Likes': '1', 'Time': '9 months ago (edited)', 'UserLink': '/channel/UC3-s61_diz019dXPAe3Vntg', 'user': 'karan Jhoshi'}, {'Comment': \"We must understand that tall skyscrapers and good roads are not enough to qualify for a smart city. There must be a significant patch of verdant surroundings to keep the city free of pollution and fresh air. These buildings and streets aren't going to give us the oxygen. Development has been reckless where builders always neglect green cover. They just want to extract their pound of profits.\", 'Likes': '0', 'Time': '3 months ago', 'UserLink': '/channel/UCBj_b4CMEeqCKG2H_IBPKXA', 'user': 'Karthik Krishnan'}, {'Comment': 'Waah fir 1000s cr ₹ kahaan jaata hai Jo ki development ke naam par allot kiya jaata hai?👿👿', 'Likes': '0', 'Time': '9 months ago', 'UserLink': '/channel/UC3y2qApRSZ6X85z4utRtcrA', 'user': 'Crime Master Gogo'}, {'Comment': 'Gurgaon contributes the most to Haryana exchequer. Then, the income taxes paid by people living here are a lot too.\\nWhere are our taxes going???', 'Likes': '4', 'Time': '9 months ago', 'UserLink': '/channel/UCheA2u3yWEktrMkChwx_2jA', 'user': 'Nirepinder Singh'}, {'Comment': 'First', 'Likes': '0', 'Time': '9 months ago', 'UserLink': '/channel/UCFA5vADSQM8pPdqyDSn6DIw', 'user': 'Sampada Sawant'}, {'Comment': 'Urbanisation means jobs but no environment vice versa . Decide yourself\\n\\nPls illogical liberals duur rahe logical conversation Karna Bina Gali kai', 'Likes': '4', 'Time': '9 months ago (edited)', 'UserLink': '/channel/UCn_IJNdMH8gdCZJCJFXBmmQ', 'user': 'I fcked you just around'}, {'Comment': 'H', 'Likes': '0', 'Time': '9 months ago', 'UserLink': '/channel/UCebNqe8SWGL0cMvGVLSt59w', 'user': 'Neelam Thakur'}]\n"
     ]
    }
   ],
   "source": [
    "print(data)"
   ]
  },
  {
   "cell_type": "code",
   "execution_count": 6,
   "id": "370473d2",
   "metadata": {},
   "outputs": [
    {
     "name": "stderr",
     "output_type": "stream",
     "text": [
      "Progress:  67%|█████████████████████████████████████▌                  | 134.1880341880342/200 [00:30<00:19,  3.36it/s]\n",
      "Progress:   0%|                                                                                | 0/200 [00:00<?, ?it/s]\u001b[A\n",
      "Progress:  70%|███████████████████████████████████████                 | 139.5726495726496/200 [00:42<00:46,  1.31it/s]\u001b[A\n",
      "Progress:  77%|██████████████████████████████████████████▌            | 154.95726495726498/200 [00:46<00:23,  1.94it/s]\u001b[A\n",
      "Progress:  85%|██████████████████████████████████████████████▊        | 170.34188034188037/200 [00:48<00:10,  2.81it/s]\u001b[A\n",
      "Progress:  93%|███████████████████████████████████████████████████    | 185.72649572649576/200 [00:56<00:05,  2.39it/s]\u001b[A\n",
      "Progress: 201.11111111111114it [00:58,  3.14it/s]                                                                      \u001b[A\n",
      "Progress: 213.3742103307321it [01:00,  3.62it/s]                       | 89.18617614269789/200 [00:28<00:28,  3.91it/s]\u001b[A\n",
      "Progress: 219.17131178000747it [01:02,  3.47it/s]                      | 94.98327759197326/200 [00:30<00:28,  3.68it/s]\u001b[A\n",
      "Progress: 224.96841322928282it [01:04,  3.34it/s]                     | 100.78037904124861/200 [00:32<00:28,  3.49it/s]\u001b[A\n",
      "Progress: 230.7655146785582it [01:06,  3.22it/s]                      | 106.57748049052398/200 [00:34<00:28,  3.32it/s]\u001b[A\n",
      "Progress: 236.56261612783356it [01:08,  3.11it/s]                     | 112.37458193979934/200 [00:36<00:27,  3.19it/s]\u001b[A\n",
      "Progress: 243.80899293942775it [01:10,  3.23it/s]                     | 119.62095875139353/200 [00:38<00:24,  3.30it/s]\u001b[A\n",
      "Progress: 249.60609438870313it [01:12,  3.11it/s]█                     | 125.4180602006689/200 [00:40<00:23,  3.17it/s]\u001b[A\n",
      "Progress: 255.4031958379785it [01:14,  3.04it/s] ██                   | 131.21516164994426/200 [00:42<00:22,  3.08it/s]\u001b[A\n",
      "Progress: 261.2002972872539it [01:17,  2.98it/s]████▋                 | 137.01226309921964/200 [00:44<00:20,  3.02it/s]\u001b[A\n",
      "\n",
      "Progress:   0%|                                                                                | 0/200 [00:00<?, ?it/s]\u001b[A\u001b[A\n",
      "\n",
      "\n",
      "Progress:   0%|                                                                                | 0/200 [00:00<?, ?it/s]\u001b[A\u001b[A\u001b[A\n",
      "\n",
      "\n",
      "\n",
      "Progress:   0%|                                                                                | 0/200 [00:00<?, ?it/s]\u001b[A\u001b[A\u001b[A\u001b[A"
     ]
    }
   ],
   "source": [
    "from youtube_comment_scraper_python import *\n",
    "youtube.open(\"https://www.youtube.com/watch?v=C5duQyX7Gec\")\n",
    "all_data=[]\n",
    "for i in range(0,5):\n",
    "\tresponse=youtube.video_comments()\n",
    "\tdata1=response['body']\n",
    "\tall_data.extend(data1)"
   ]
  },
  {
   "cell_type": "code",
   "execution_count": 7,
   "id": "72e75e6a",
   "metadata": {},
   "outputs": [
    {
     "name": "stdout",
     "output_type": "stream",
     "text": [
      "[{'Comment': 'This planet belongs to all of us . Appreciate the work. Kudos to iamgurgaon citizens group.', 'Likes': '31', 'Time': '9 months ago (edited)', 'UserLink': '/channel/UCpH24tSZnFGAECI_ZCa7jJQ', 'user': 'Mohd Haris'}, {'Comment': 'After paying stamp duties, municipal tax and all othere taxs to govt. the citizens have to do everthing.🤦🤷\\u200d♂️', 'Likes': '25', 'Time': '9 months ago', 'UserLink': '/channel/UCoeRuAXZoweNJ7gGKrRO6BA', 'user': 'Rajesh Interpretations'}, {'Comment': 'Love from Tamil nadu 💝  take more steps to save our world.', 'Likes': '8', 'Time': '9 months ago', 'UserLink': '/channel/UCjMzPKARX8DO-MFyNtDU0Gg', 'user': 'Siva Prakash N'}, {'Comment': 'Breathtaking 🥰', 'Likes': '2', 'Time': '9 months ago', 'UserLink': '/channel/UCmDQ7gWhr-MYALNXX2j7g6g', 'user': 'sanaullah alom'}, {'Comment': 'Wow. Inspiring !', 'Likes': '2', 'Time': '9 months ago', 'UserLink': '/channel/UC0432RYG8A6JzNMX-XEFUOQ', 'user': 'Aditya Majumdar'}, {'Comment': 'Excellent work from the children of kailas & agenta 🤗', 'Likes': '0', 'Time': '9 months ago', 'UserLink': '/channel/UC7ZAr5wCN04sx2qF8HruJvw', 'user': 'Notin z 4 Ever'}, {'Comment': \"Appreciable initiative. when citizens participate, govt's know not to ignore the citizens...\", 'Likes': '1', 'Time': '8 months ago', 'UserLink': '/channel/UC3uN0f93nklPRte-xnjdEmw', 'user': 'Rohan Sharma'}, {'Comment': 'Nice to see some concerned citizens and aspirants. Keep it up fellas.', 'Likes': '0', 'Time': '2 months ago', 'UserLink': '/channel/UCZQ7CXT4PVow1bDwu2vnfIQ', 'user': 'mohit singh'}, {'Comment': 'Great work 🙏', 'Likes': '1', 'Time': '9 months ago', 'UserLink': '/channel/UCO21rnMrqqv8Q0HwUgslSOg', 'user': 'Rakesh Kumar'}, {'Comment': 'Great work 👏 👍 👌', 'Likes': '1', 'Time': '9 months ago', 'UserLink': '/channel/UCeCdfVsykTOrJ7JKSOeZogw', 'user': 'varun sinha'}, {'Comment': 'Jai Hind to all d volunteers', 'Likes': '3', 'Time': '9 months ago', 'UserLink': '/channel/UC8IYRJlJMug8ndZ7N7meF1w', 'user': 'Abhishek Tarai'}, {'Comment': 'Thank god at least somebody is doing something about it. Best of luck.', 'Likes': '0', 'Time': '9 months ago', 'UserLink': '/channel/UCQ5KRi1OwyiMCO8BT7nkG5g', 'user': 'Maria Ekka'}, {'Comment': 'your organisation deserve Grand salute', 'Likes': '0', 'Time': '9 months ago', 'UserLink': '/channel/UCymaQzA_YFiIPjKH5FfYmyA', 'user': 'Assamese TXT'}, {'Comment': 'Feeling a bit secured now', 'Likes': '0', 'Time': '9 months ago', 'UserLink': '/channel/UChc3JdGQESaP77jRhkIB_EA', 'user': 'Mayank Garga'}, {'Comment': 'Kudos to citizens of Gurgaon', 'Likes': '1', 'Time': '9 months ago', 'UserLink': '/channel/UCamYZylHgwfJhYk8RGIC9Wg', 'user': 'Myn Gnax Enty'}, {'Comment': 'Environment are mothers to protect human beings we need them so it is now a high time to protect them', 'Likes': '0', 'Time': '8 months ago', 'UserLink': '/channel/UCkxjegT75e7KnwMl8dGDlHg', 'user': 'Ritesh Das'}, {'Comment': 'Patna(Bihar) really need this.', 'Likes': '0', 'Time': '9 months ago', 'UserLink': '/channel/UCEbIVoqIz3GgJnm0-Yj7kZQ', 'user': 'saif ullah'}, {'Comment': 'Good initiative', 'Likes': '0', 'Time': '9 months ago', 'UserLink': '/channel/UC36xhm8bGqQ8YO5FqEod3dw', 'user': 'Harshad K H'}, {'Comment': 'Very good initiative', 'Likes': '1', 'Time': '9 months ago', 'UserLink': '/channel/UC9R-nXwH-AAAY2bWmoTYbyg', 'user': 'OGGY AND FRNDS'}, {'Comment': 'Gurugram is in up new it industry of India 😎', 'Likes': '4', 'Time': '9 months ago', 'UserLink': '/channel/UCKLB7J-QPWEn96TQv_649rw', 'user': 'इन्द्र :'}, {'Comment': '♥️', 'Likes': '1', 'Time': '9 months ago', 'UserLink': '/channel/UCFCjli5Dm2bnwMz_cgj0tFg', 'user': 'Dakheel Majeed'}, {'Comment': '🙌🏻🙌🏻🤘🏻', 'Likes': '1', 'Time': '9 months ago', 'UserLink': '/channel/UCOsCOQMHsbJbAencTkdSuvw', 'user': 'Gaurav'}, {'Comment': 'Great', 'Likes': '0', 'Time': '9 months ago', 'UserLink': '/channel/UCnBMKt-y_9rg3NPurVdILAw', 'user': 'Zaffer Ali'}, {'Comment': 'Govt is busy in doing g@#$%u things and normal citizens are talking the things in their own hands, even after paying so much money to the govt.', 'Likes': '4', 'Time': '9 months ago', 'UserLink': '/channel/UCOxbNtZwBf-TSJhu9IAqfdQ', 'user': 'imran ahmad'}, {'Comment': \"Interesting to see quint have uploaded only 2 videos the whole day... It's obvious thou... Jab khud ki phatt jati hai... Toh ache acho ki leti hai...😂😂😂😂😂😂....\", 'Likes': '5', 'Time': '9 months ago', 'UserLink': '/channel/UCC-r2c4ptPokXMQj1Xk6pAw', 'user': 'Abhishek Dhumvad'}, {'Comment': 'high respect for people who think like this.....', 'Likes': '0', 'Time': '8 months ago', 'UserLink': '/channel/UChBLF5xUHimOsin3Lcd4nyw', 'user': 'Aju Aju'}, {'Comment': 'This planet belongs to all of us . Appreciate the work. Kudos to iamgurgaon citizens group.', 'Likes': '31', 'Time': '9 months ago (edited)', 'UserLink': '/channel/UCpH24tSZnFGAECI_ZCa7jJQ', 'user': 'Mohd Haris'}, {'Comment': 'After paying stamp duties, municipal tax and all othere taxs to govt. the citizens have to do everthing.🤦🤷\\u200d♂️', 'Likes': '25', 'Time': '9 months ago', 'UserLink': '/channel/UCoeRuAXZoweNJ7gGKrRO6BA', 'user': 'Rajesh Interpretations'}, {'Comment': 'Love from Tamil nadu 💝  take more steps to save our world.', 'Likes': '8', 'Time': '9 months ago', 'UserLink': '/channel/UCjMzPKARX8DO-MFyNtDU0Gg', 'user': 'Siva Prakash N'}, {'Comment': 'Breathtaking 🥰', 'Likes': '2', 'Time': '9 months ago', 'UserLink': '/channel/UCmDQ7gWhr-MYALNXX2j7g6g', 'user': 'sanaullah alom'}, {'Comment': 'Wow. Inspiring !', 'Likes': '2', 'Time': '9 months ago', 'UserLink': '/channel/UC0432RYG8A6JzNMX-XEFUOQ', 'user': 'Aditya Majumdar'}, {'Comment': 'Excellent work from the children of kailas & agenta 🤗', 'Likes': '0', 'Time': '9 months ago', 'UserLink': '/channel/UC7ZAr5wCN04sx2qF8HruJvw', 'user': 'Notin z 4 Ever'}, {'Comment': \"Appreciable initiative. when citizens participate, govt's know not to ignore the citizens...\", 'Likes': '1', 'Time': '8 months ago', 'UserLink': '/channel/UC3uN0f93nklPRte-xnjdEmw', 'user': 'Rohan Sharma'}, {'Comment': 'Nice to see some concerned citizens and aspirants. Keep it up fellas.', 'Likes': '0', 'Time': '2 months ago', 'UserLink': '/channel/UCZQ7CXT4PVow1bDwu2vnfIQ', 'user': 'mohit singh'}, {'Comment': 'Great work 🙏', 'Likes': '1', 'Time': '9 months ago', 'UserLink': '/channel/UCO21rnMrqqv8Q0HwUgslSOg', 'user': 'Rakesh Kumar'}, {'Comment': 'Great work 👏 👍 👌', 'Likes': '1', 'Time': '9 months ago', 'UserLink': '/channel/UCeCdfVsykTOrJ7JKSOeZogw', 'user': 'varun sinha'}, {'Comment': 'Jai Hind to all d volunteers', 'Likes': '3', 'Time': '9 months ago', 'UserLink': '/channel/UC8IYRJlJMug8ndZ7N7meF1w', 'user': 'Abhishek Tarai'}, {'Comment': 'Thank god at least somebody is doing something about it. Best of luck.', 'Likes': '0', 'Time': '9 months ago', 'UserLink': '/channel/UCQ5KRi1OwyiMCO8BT7nkG5g', 'user': 'Maria Ekka'}, {'Comment': 'your organisation deserve Grand salute', 'Likes': '0', 'Time': '9 months ago', 'UserLink': '/channel/UCymaQzA_YFiIPjKH5FfYmyA', 'user': 'Assamese TXT'}, {'Comment': 'Feeling a bit secured now', 'Likes': '0', 'Time': '9 months ago', 'UserLink': '/channel/UChc3JdGQESaP77jRhkIB_EA', 'user': 'Mayank Garga'}, {'Comment': 'Kudos to citizens of Gurgaon', 'Likes': '1', 'Time': '9 months ago', 'UserLink': '/channel/UCamYZylHgwfJhYk8RGIC9Wg', 'user': 'Myn Gnax Enty'}, {'Comment': 'Environment are mothers to protect human beings we need them so it is now a high time to protect them', 'Likes': '0', 'Time': '8 months ago', 'UserLink': '/channel/UCkxjegT75e7KnwMl8dGDlHg', 'user': 'Ritesh Das'}, {'Comment': 'Patna(Bihar) really need this.', 'Likes': '0', 'Time': '9 months ago', 'UserLink': '/channel/UCEbIVoqIz3GgJnm0-Yj7kZQ', 'user': 'saif ullah'}, {'Comment': 'Good initiative', 'Likes': '0', 'Time': '9 months ago', 'UserLink': '/channel/UC36xhm8bGqQ8YO5FqEod3dw', 'user': 'Harshad K H'}, {'Comment': 'Very good initiative', 'Likes': '1', 'Time': '9 months ago', 'UserLink': '/channel/UC9R-nXwH-AAAY2bWmoTYbyg', 'user': 'OGGY AND FRNDS'}, {'Comment': 'Gurugram is in up new it industry of India 😎', 'Likes': '4', 'Time': '9 months ago', 'UserLink': '/channel/UCKLB7J-QPWEn96TQv_649rw', 'user': 'इन्द्र :'}, {'Comment': '♥️', 'Likes': '1', 'Time': '9 months ago', 'UserLink': '/channel/UCFCjli5Dm2bnwMz_cgj0tFg', 'user': 'Dakheel Majeed'}, {'Comment': '🙌🏻🙌🏻🤘🏻', 'Likes': '1', 'Time': '9 months ago', 'UserLink': '/channel/UCOsCOQMHsbJbAencTkdSuvw', 'user': 'Gaurav'}, {'Comment': 'Great', 'Likes': '0', 'Time': '9 months ago', 'UserLink': '/channel/UCnBMKt-y_9rg3NPurVdILAw', 'user': 'Zaffer Ali'}, {'Comment': 'Govt is busy in doing g@#$%u things and normal citizens are talking the things in their own hands, even after paying so much money to the govt.', 'Likes': '4', 'Time': '9 months ago', 'UserLink': '/channel/UCOxbNtZwBf-TSJhu9IAqfdQ', 'user': 'imran ahmad'}, {'Comment': \"Interesting to see quint have uploaded only 2 videos the whole day... It's obvious thou... Jab khud ki phatt jati hai... Toh ache acho ki leti hai...😂😂😂😂😂😂....\", 'Likes': '5', 'Time': '9 months ago', 'UserLink': '/channel/UCC-r2c4ptPokXMQj1Xk6pAw', 'user': 'Abhishek Dhumvad'}, {'Comment': 'high respect for people who think like this.....', 'Likes': '0', 'Time': '8 months ago', 'UserLink': '/channel/UChBLF5xUHimOsin3Lcd4nyw', 'user': 'Aju Aju'}, {'Comment': 'Kudos to you', 'Likes': '0', 'Time': '9 months ago', 'UserLink': '/channel/UCRD0esS2bceWv9f6Ypobvnw', 'user': 'Chumki Thakur'}, {'Comment': 'Hope they are not following miyawaki method..\\nIt would have been better for the planet, if someone order lock down once a week', 'Likes': '1', 'Time': '9 months ago (edited)', 'UserLink': '/channel/UCswmjNzVjYlw-QRFlHJx8fA', 'user': 'alka'}, {'Comment': 'nice.', 'Likes': '0', 'Time': '9 months ago', 'UserLink': '/channel/UCTwLoSY77RIdROuO8H6cJ3A', 'user': 'krishnan agrawal'}, {'Comment': '😲😲😲😲😲😲🤩🤩🤩🤩🤩🤩🤩', 'Likes': '1', 'Time': '9 months ago', 'UserLink': '/channel/UCuK-v5xiuvBICoDVVHGB8JQ', 'user': 'Gaming shorts'}, {'Comment': 'yah sarkari kam tax payers ko karna hoga. tax bahro oor zhad b tax payers lagao. inka tax saara kisan subsidy me jata hai orr kisan parel jalaate hai, same environment ki watt lagate hi', 'Likes': '0', 'Time': '9 months ago', 'UserLink': '/channel/UCcqDWqhaexYZ-6TB5DEEC0g', 'user': 'Ambarish L'}, {'Comment': 'Jai hind jai India', 'Likes': '1', 'Time': '9 months ago (edited)', 'UserLink': '/channel/UC3-s61_diz019dXPAe3Vntg', 'user': 'karan Jhoshi'}, {'Comment': \"We must understand that tall skyscrapers and good roads are not enough to qualify for a smart city. There must be a significant patch of verdant surroundings to keep the city free of pollution and fresh air. These buildings and streets aren't going to give us the oxygen. Development has been reckless where builders always neglect green cover. They just want to extract their pound of profits.\", 'Likes': '0', 'Time': '3 months ago', 'UserLink': '/channel/UCBj_b4CMEeqCKG2H_IBPKXA', 'user': 'Karthik Krishnan'}, {'Comment': 'Waah fir 1000s cr ₹ kahaan jaata hai Jo ki development ke naam par allot kiya jaata hai?👿👿', 'Likes': '0', 'Time': '9 months ago', 'UserLink': '/channel/UC3y2qApRSZ6X85z4utRtcrA', 'user': 'Crime Master Gogo'}, {'Comment': 'Gurgaon contributes the most to Haryana exchequer. Then, the income taxes paid by people living here are a lot too.\\nWhere are our taxes going???', 'Likes': '4', 'Time': '9 months ago', 'UserLink': '/channel/UCheA2u3yWEktrMkChwx_2jA', 'user': 'Nirepinder Singh'}, {'Comment': 'First', 'Likes': '0', 'Time': '9 months ago', 'UserLink': '/channel/UCFA5vADSQM8pPdqyDSn6DIw', 'user': 'Sampada Sawant'}, {'Comment': 'Urbanisation means jobs but no environment vice versa . Decide yourself\\n\\nPls illogical liberals duur rahe logical conversation Karna Bina Gali kai', 'Likes': '4', 'Time': '9 months ago (edited)', 'UserLink': '/channel/UCn_IJNdMH8gdCZJCJFXBmmQ', 'user': 'I fcked you just around'}, {'Comment': 'H', 'Likes': '0', 'Time': '9 months ago', 'UserLink': '/channel/UCebNqe8SWGL0cMvGVLSt59w', 'user': 'Neelam Thakur'}]\n"
     ]
    }
   ],
   "source": [
    "print(all_data)"
   ]
  },
  {
   "cell_type": "code",
   "execution_count": 8,
   "id": "7ea55013",
   "metadata": {},
   "outputs": [],
   "source": [
    "\n",
    "import json\n",
    "json_file = json.dumps(all_data)\n",
    "with open(\"Gudgau.json\", \"w\") as outfile:\n",
    "    outfile.write(json_file)"
   ]
  },
  {
   "cell_type": "code",
   "execution_count": 10,
   "id": "3ed51b59",
   "metadata": {},
   "outputs": [],
   "source": [
    "import pandas as pd\n",
    "df = pd.read_json(\"Gudgau.json\")\n",
    "df.to_csv(\"Gudgau.csv\")"
   ]
  },
  {
   "cell_type": "code",
   "execution_count": 11,
   "id": "a5b63d69",
   "metadata": {},
   "outputs": [
    {
     "name": "stdout",
     "output_type": "stream",
     "text": [
      "                                              Comment  Likes  \\\n",
      "0   This planet belongs to all of us . Appreciate ...     31   \n",
      "1   After paying stamp duties, municipal tax and a...     25   \n",
      "2   Love from Tamil nadu 💝  take more steps to sav...      8   \n",
      "3                                      Breathtaking 🥰      2   \n",
      "4                                    Wow. Inspiring !      2   \n",
      "..                                                ...    ...   \n",
      "59  Waah fir 1000s cr ₹ kahaan jaata hai Jo ki dev...      0   \n",
      "60  Gurgaon contributes the most to Haryana excheq...      4   \n",
      "61                                              First      0   \n",
      "62  Urbanisation means jobs but no environment vic...      4   \n",
      "63                                                  H      0   \n",
      "\n",
      "                     Time                           UserLink  \\\n",
      "0   9 months ago (edited)  /channel/UCpH24tSZnFGAECI_ZCa7jJQ   \n",
      "1            9 months ago  /channel/UCoeRuAXZoweNJ7gGKrRO6BA   \n",
      "2            9 months ago  /channel/UCjMzPKARX8DO-MFyNtDU0Gg   \n",
      "3            9 months ago  /channel/UCmDQ7gWhr-MYALNXX2j7g6g   \n",
      "4            9 months ago  /channel/UC0432RYG8A6JzNMX-XEFUOQ   \n",
      "..                    ...                                ...   \n",
      "59           9 months ago  /channel/UC3y2qApRSZ6X85z4utRtcrA   \n",
      "60           9 months ago  /channel/UCheA2u3yWEktrMkChwx_2jA   \n",
      "61           9 months ago  /channel/UCFA5vADSQM8pPdqyDSn6DIw   \n",
      "62  9 months ago (edited)  /channel/UCn_IJNdMH8gdCZJCJFXBmmQ   \n",
      "63           9 months ago  /channel/UCebNqe8SWGL0cMvGVLSt59w   \n",
      "\n",
      "                       user  \n",
      "0                Mohd Haris  \n",
      "1    Rajesh Interpretations  \n",
      "2            Siva Prakash N  \n",
      "3            sanaullah alom  \n",
      "4           Aditya Majumdar  \n",
      "..                      ...  \n",
      "59        Crime Master Gogo  \n",
      "60         Nirepinder Singh  \n",
      "61           Sampada Sawant  \n",
      "62  I fcked you just around  \n",
      "63            Neelam Thakur  \n",
      "\n",
      "[64 rows x 5 columns]\n"
     ]
    }
   ],
   "source": [
    "print(df)"
   ]
  },
  {
   "cell_type": "code",
   "execution_count": null,
   "id": "9581ec7d",
   "metadata": {},
   "outputs": [],
   "source": []
  }
 ],
 "metadata": {
  "kernelspec": {
   "display_name": "Python 3",
   "language": "python",
   "name": "python3"
  },
  "language_info": {
   "codemirror_mode": {
    "name": "ipython",
    "version": 3
   },
   "file_extension": ".py",
   "mimetype": "text/x-python",
   "name": "python",
   "nbconvert_exporter": "python",
   "pygments_lexer": "ipython3",
   "version": "3.8.9"
  }
 },
 "nbformat": 4,
 "nbformat_minor": 5
}
