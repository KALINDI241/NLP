{
 "cells": [
  {
   "cell_type": "code",
   "execution_count": 1,
   "id": "2c9bf34f",
   "metadata": {},
   "outputs": [],
   "source": [
    "from sklearn.feature_extraction.text import TfidfVectorizer\n",
    "from sklearn.cluster import KMeans"
   ]
  },
  {
   "cell_type": "code",
   "execution_count": 2,
   "id": "31eddd0f",
   "metadata": {},
   "outputs": [],
   "source": [
    "documents = [\"NLP is researching field\",\n",
    "             \"NLP and ML changed the technological aspect drastically \",\n",
    "             \"NLP stands for Natural Language Processing\",\n",
    "             \"NLP oncerned with giving computers the ability to understand text and spoken words in much the same way human beings can.\",\n",
    "             \"NLP helps computers communicate with humans in their own language and scales other language-related tasks. \",\n",
    "             \"NLP and ML are both based on statistical learning\",\n",
    "             \"Knowledge of Math is fundamental in these type of fields\"]"
   ]
  },
  {
   "cell_type": "code",
   "execution_count": 3,
   "id": "501a7a60",
   "metadata": {},
   "outputs": [],
   "source": [
    "vectorizer = TfidfVectorizer(stop_words = 'english')\n",
    "data = vectorizer.fit_transform(documents)"
   ]
  },
  {
   "cell_type": "code",
   "execution_count": 4,
   "id": "9fd1bc34",
   "metadata": {},
   "outputs": [
    {
     "data": {
      "text/plain": [
       "KMeans(n_clusters=2)"
      ]
     },
     "execution_count": 4,
     "metadata": {},
     "output_type": "execute_result"
    }
   ],
   "source": [
    "true_k = 2\n",
    "clustering_model = KMeans(n_clusters = true_k, init = 'k-means++', max_iter = 300, n_init = 10)\n",
    "clustering_model.fit(data)\n"
   ]
  },
  {
   "cell_type": "code",
   "execution_count": 5,
   "id": "ce4994d4",
   "metadata": {},
   "outputs": [],
   "source": [
    "sorted_centroids = clustering_model.cluster_centers_.argsort()[:, ::-1]\n",
    "terms = vectorizer.get_feature_names()"
   ]
  },
  {
   "cell_type": "code",
   "execution_count": 6,
   "id": "4261c09c",
   "metadata": {},
   "outputs": [
    {
     "name": "stdout",
     "output_type": "stream",
     "text": [
      "Cluster 0: nlp ml field researching based statistical learning drastically aspect technologicalCluster 1: language stands processing natural nlp humans helps tasks communicate scales"
     ]
    }
   ],
   "source": [
    "for i in range(true_k):\n",
    "        print(\"Cluster %d:\" % i, end='')\n",
    "        for ind in sorted_centroids[i, :10]:\n",
    "            print(' %s' % terms[ind], end='')"
   ]
  },
  {
   "cell_type": "code",
   "execution_count": 7,
   "id": "3ef6d4ba",
   "metadata": {},
   "outputs": [
    {
     "name": "stdout",
     "output_type": "stream",
     "text": [
      "[0]\n"
     ]
    }
   ],
   "source": [
    "new_doc = [\"ML is changing\"]\n",
    "Y = vectorizer.transform(new_doc)\n",
    "prediction = clustering_model.predict(Y)\n",
    "print(prediction)\n",
    "\n"
   ]
  },
  {
   "cell_type": "code",
   "execution_count": 8,
   "id": "be33a9ca",
   "metadata": {},
   "outputs": [
    {
     "name": "stdout",
     "output_type": "stream",
     "text": [
      "[1]\n"
     ]
    }
   ],
   "source": [
    "new_doc = [\"NLP gives own language\"]\n",
    "Y = vectorizer.transform(new_doc)\n",
    "prediction = clustering_model.predict(Y)\n",
    "print(prediction)"
   ]
  }
 ],
 "metadata": {
  "kernelspec": {
   "display_name": "Python 3",
   "language": "python",
   "name": "python3"
  },
  "language_info": {
   "codemirror_mode": {
    "name": "ipython",
    "version": 3
   },
   "file_extension": ".py",
   "mimetype": "text/x-python",
   "name": "python",
   "nbconvert_exporter": "python",
   "pygments_lexer": "ipython3",
   "version": "3.8.9"
  }
 },
 "nbformat": 4,
 "nbformat_minor": 5
}
