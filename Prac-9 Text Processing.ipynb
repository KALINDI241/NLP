{
 "cells": [
  {
   "cell_type": "markdown",
   "id": "black-grace",
   "metadata": {},
   "source": [
    "Practical 9 : Implement text processing with neural network"
   ]
  },
  {
   "cell_type": "code",
   "execution_count": 6,
   "id": "wanted-backup",
   "metadata": {},
   "outputs": [],
   "source": [
    "import numpy as np\n",
    "import tensorflow_datasets as tfds\n",
    "import tensorflow as tf\n",
    "tfds.disable_progress_bar()\n",
    "\n",
    "import matplotlib.pyplot as plt"
   ]
  },
  {
   "cell_type": "code",
   "execution_count": 7,
   "id": "romantic-jefferson",
   "metadata": {},
   "outputs": [],
   "source": [
    "def plot_graphs(history, metric):\n",
    "  plt.plot(history.history[metric])\n",
    "  plt.plot(history.history['val_'+metric], '')\n",
    "  plt.xlabel(\"Epochs\")\n",
    "  plt.ylabel(metric)\n",
    "  plt.legend([metric, 'val_'+metric])"
   ]
  },
  {
   "cell_type": "code",
   "execution_count": 8,
   "id": "interim-production",
   "metadata": {},
   "outputs": [
    {
     "name": "stdout",
     "output_type": "stream",
     "text": [
      "\u001b[1mDownloading and preparing dataset Unknown size (download: Unknown size, generated: Unknown size, total: Unknown size) to C:\\Users\\Anisha\\tensorflow_datasets\\imdb_reviews\\plain_text\\1.0.0...\u001b[0m\n",
      "\u001b[1mDataset imdb_reviews downloaded and prepared to C:\\Users\\Anisha\\tensorflow_datasets\\imdb_reviews\\plain_text\\1.0.0. Subsequent calls will reuse this data.\u001b[0m\n"
     ]
    },
    {
     "data": {
      "text/plain": [
       "(TensorSpec(shape=(), dtype=tf.string, name=None),\n",
       " TensorSpec(shape=(), dtype=tf.int64, name=None))"
      ]
     },
     "execution_count": 8,
     "metadata": {},
     "output_type": "execute_result"
    }
   ],
   "source": [
    "dataset, info = tfds.load('imdb_reviews', with_info=True,\n",
    "                          as_supervised=True)\n",
    "train_dataset, test_dataset = dataset['train'], dataset['test']\n",
    "\n",
    "train_dataset.element_spec"
   ]
  },
  {
   "cell_type": "code",
   "execution_count": 9,
   "id": "passive-duplicate",
   "metadata": {},
   "outputs": [
    {
     "name": "stdout",
     "output_type": "stream",
     "text": [
      "text:  b\"This was an absolutely terrible movie. Don't be lured in by Christopher Walken or Michael Ironside. Both are great actors, but this must simply be their worst role in history. Even their great acting could not redeem this movie's ridiculous storyline. This movie is an early nineties US propaganda piece. The most pathetic scenes were those when the Columbian rebels were making their cases for revolutions. Maria Conchita Alonso appeared phony, and her pseudo-love affair with Walken was nothing but a pathetic emotional plug in a movie that was devoid of any real meaning. I am disappointed that there are movies like this, ruining actor's like Christopher Walken's good name. I could barely sit through it.\"\n",
      "label:  0\n"
     ]
    }
   ],
   "source": [
    "for example, label in train_dataset.take(1):\n",
    "  print('text: ', example.numpy())\n",
    "  print('label: ', label.numpy())"
   ]
  },
  {
   "cell_type": "code",
   "execution_count": 10,
   "id": "broken-watch",
   "metadata": {},
   "outputs": [],
   "source": [
    "BUFFER_SIZE = 10000\n",
    "BATCH_SIZE = 64\n",
    "\n",
    "train_dataset = train_dataset.shuffle(BUFFER_SIZE).batch(BATCH_SIZE).prefetch(tf.data.AUTOTUNE)\n",
    "test_dataset = test_dataset.batch(BATCH_SIZE).prefetch(tf.data.AUTOTUNE)"
   ]
  },
  {
   "cell_type": "code",
   "execution_count": 11,
   "id": "guided-likelihood",
   "metadata": {},
   "outputs": [
    {
     "name": "stdout",
     "output_type": "stream",
     "text": [
      "texts:  [b'WHEN FRIENDSHIP KILLS, in my opinion, is a very touching and kind of heartbreaking drama about the consequences of being anorexic or bulimic. Anytime Lexi (Katie Wright) or Jennifer (Marley Shelton) threw up, I wanted to vomit myself. It\\'s kind of hard to explain why. If you ask me, they should have been more cooperative about things. However, I did enjoy seeing them do things together as well as get lectured by their parents. Before I wrap this up, I\\'d like to say, \"If you ask me, WHEN FRIENDSHIP KILLS does indeed show you how being anorexic or bulimic can affect a person\\'s body. \" Now, in conclusion, I recommend this movie to everyone who hasn\\'t seen it. You\\'re in for some tears and a good time, so the next time it\\'s on TV, kick back with a friend and watch it.'\n",
      " b\"Almost a two-person play, and as such the dialog and the performances of the leads will be important. Neither are particularly good. This might have been stronger, in fact, if it had first been crafted as a two-person play, and then worked into a film.<br /><br />Anyway, a twitchy vampire who seems slightly autistic becomes infatuated with a stripper (as a result of watching too much porn in his crappy home). He wants to have her tell him about the daylight. He would have been better off finding someone with a day job, or someone who excels at painting a picture with words like a poet, but then they might not have a hot bod.<br /><br />After he gets her to do whatever he wants (and he's not terribly good at it), he intends to feed on her at 6 AM, at which point the sun rises. Much is made of that deadline, despite the fact that he also says that he can go without feeding, it will just make him hungrier. Additionally, he claims he can't let the stripper go, since she knows about him, but he lets a number of other people go who learn what he is. There are a lot of inconsistencies.<br /><br />Why this vampire chooses to live in a house so poorly boarded up that light from streetlamps and neighboring buildings pours in as if it were daytime, I'm not sure. With all the time in the world, you'd think he'd have done a better job, or fixed the place up a bit. He's clearly not a wealthy vampire.<br /><br />This is supposedly a remake, and I'm curious to see the original version of this, Dance of the Damned. Although, that was directed by Katt Shea, and the other films she directed for Corman (Stripped to Kill, StK II) were pretty bad.\"\n",
      " b\"What a fascinating film. Even if it wasn't based on real life, Forbidden Lies was a fascinating portrait of a con artist in her element. And it is the kind of film psychology students could study to learn about compulsive liars.<br /><br />The author of Forbidden Love, Norma, was revealed as a fraud in the media but this move really does give her ample opportunity to clear her name.<br /><br />But the twists and turns she takes the documentary maker through are amazing. What a patient woman! I loved this movie. I have not read the book but simply heard good reviews and went to see it on boring rainy afternoon. The journey this film takes you on is clever, interesting and totally engrossing.\"]\n",
      "\n",
      "labels:  [1 0 1]\n"
     ]
    }
   ],
   "source": [
    "for example, label in train_dataset.take(1):\n",
    "  print('texts: ', example.numpy()[:3])\n",
    "  print()\n",
    "  print('labels: ', label.numpy()[:3])"
   ]
  },
  {
   "cell_type": "code",
   "execution_count": 12,
   "id": "pressed-stereo",
   "metadata": {},
   "outputs": [
    {
     "data": {
      "text/plain": [
       "array(['', '[UNK]', 'the', 'and', 'a', 'of', 'to', 'is', 'in', 'it', 'i',\n",
       "       'this', 'that', 'br', 'was', 'as', 'for', 'with', 'movie', 'but'],\n",
       "      dtype='<U14')"
      ]
     },
     "execution_count": 12,
     "metadata": {},
     "output_type": "execute_result"
    }
   ],
   "source": [
    "VOCAB_SIZE = 1000\n",
    "encoder = tf.keras.layers.TextVectorization(\n",
    "    max_tokens=VOCAB_SIZE)\n",
    "encoder.adapt(train_dataset.map(lambda text, label: text))\n",
    "\n",
    "vocab = np.array(encoder.get_vocabulary())\n",
    "vocab[:20]"
   ]
  },
  {
   "cell_type": "code",
   "execution_count": 13,
   "id": "about-engineer",
   "metadata": {},
   "outputs": [
    {
     "data": {
      "text/plain": [
       "array([[ 51,   1,   1, ...,   0,   0,   0],\n",
       "       [210,   4,   1, ...,   0,   0,   0],\n",
       "       [ 49,   4,   1, ...,   0,   0,   0]], dtype=int64)"
      ]
     },
     "execution_count": 13,
     "metadata": {},
     "output_type": "execute_result"
    }
   ],
   "source": [
    "encoded_example = encoder(example)[:3].numpy()\n",
    "encoded_example"
   ]
  },
  {
   "cell_type": "code",
   "execution_count": 14,
   "id": "outside-theater",
   "metadata": {},
   "outputs": [
    {
     "name": "stdout",
     "output_type": "stream",
     "text": [
      "Original:  b'WHEN FRIENDSHIP KILLS, in my opinion, is a very touching and kind of heartbreaking drama about the consequences of being anorexic or bulimic. Anytime Lexi (Katie Wright) or Jennifer (Marley Shelton) threw up, I wanted to vomit myself. It\\'s kind of hard to explain why. If you ask me, they should have been more cooperative about things. However, I did enjoy seeing them do things together as well as get lectured by their parents. Before I wrap this up, I\\'d like to say, \"If you ask me, WHEN FRIENDSHIP KILLS does indeed show you how being anorexic or bulimic can affect a person\\'s body. \" Now, in conclusion, I recommend this movie to everyone who hasn\\'t seen it. You\\'re in for some tears and a good time, so the next time it\\'s on TV, kick back with a friend and watch it.'\n",
      "Round-trip:  when [UNK] [UNK] in my opinion is a very [UNK] and kind of [UNK] drama about the [UNK] of being [UNK] or [UNK] [UNK] [UNK] [UNK] [UNK] or [UNK] [UNK] [UNK] [UNK] up i wanted to [UNK] myself its kind of hard to [UNK] why if you ask me they should have been more [UNK] about things however i did enjoy seeing them do things together as well as get [UNK] by their parents before i [UNK] this up id like to say if you ask me when [UNK] [UNK] does indeed show you how being [UNK] or [UNK] can [UNK] a [UNK] body now in [UNK] i recommend this movie to everyone who [UNK] seen it youre in for some [UNK] and a good time so the next time its on tv [UNK] back with a friend and watch it                                                                                                                                                                                                                                                                                                                                                                                                                                                                                            \n",
      "\n",
      "Original:  b\"Almost a two-person play, and as such the dialog and the performances of the leads will be important. Neither are particularly good. This might have been stronger, in fact, if it had first been crafted as a two-person play, and then worked into a film.<br /><br />Anyway, a twitchy vampire who seems slightly autistic becomes infatuated with a stripper (as a result of watching too much porn in his crappy home). He wants to have her tell him about the daylight. He would have been better off finding someone with a day job, or someone who excels at painting a picture with words like a poet, but then they might not have a hot bod.<br /><br />After he gets her to do whatever he wants (and he's not terribly good at it), he intends to feed on her at 6 AM, at which point the sun rises. Much is made of that deadline, despite the fact that he also says that he can go without feeding, it will just make him hungrier. Additionally, he claims he can't let the stripper go, since she knows about him, but he lets a number of other people go who learn what he is. There are a lot of inconsistencies.<br /><br />Why this vampire chooses to live in a house so poorly boarded up that light from streetlamps and neighboring buildings pours in as if it were daytime, I'm not sure. With all the time in the world, you'd think he'd have done a better job, or fixed the place up a bit. He's clearly not a wealthy vampire.<br /><br />This is supposedly a remake, and I'm curious to see the original version of this, Dance of the Damned. Although, that was directed by Katt Shea, and the other films she directed for Corman (Stripped to Kill, StK II) were pretty bad.\"\n",
      "Round-trip:  almost a [UNK] play and as such the dialog and the performances of the leads will be important [UNK] are particularly good this might have been [UNK] in fact if it had first been [UNK] as a [UNK] play and then worked into a filmbr br anyway a [UNK] [UNK] who seems [UNK] [UNK] becomes [UNK] with a [UNK] as a result of watching too much [UNK] in his [UNK] home he wants to have her tell him about the [UNK] he would have been better off [UNK] someone with a day job or someone who [UNK] at [UNK] a picture with words like a [UNK] but then they might not have a hot [UNK] br after he gets her to do whatever he wants and hes not [UNK] good at it he [UNK] to [UNK] on her at [UNK] am at which point the [UNK] [UNK] much is made of that [UNK] despite the fact that he also says that he can go without [UNK] it will just make him [UNK] [UNK] he [UNK] he cant let the [UNK] go since she knows about him but he lets a number of other people go who learn what he is there are a lot of [UNK] br why this [UNK] [UNK] to live in a house so poorly [UNK] up that light from [UNK] and [UNK] [UNK] [UNK] in as if it were [UNK] im not sure with all the time in the world [UNK] think [UNK] have done a better job or [UNK] the place up a bit hes clearly not a [UNK] [UNK] br this is [UNK] a remake and im [UNK] to see the original version of this dance of the [UNK] although that was directed by [UNK] [UNK] and the other films she directed for [UNK] [UNK] to kill [UNK] [UNK] were pretty bad                                                                                                                                                                                                                                                                                                                     \n",
      "\n",
      "Original:  b\"What a fascinating film. Even if it wasn't based on real life, Forbidden Lies was a fascinating portrait of a con artist in her element. And it is the kind of film psychology students could study to learn about compulsive liars.<br /><br />The author of Forbidden Love, Norma, was revealed as a fraud in the media but this move really does give her ample opportunity to clear her name.<br /><br />But the twists and turns she takes the documentary maker through are amazing. What a patient woman! I loved this movie. I have not read the book but simply heard good reviews and went to see it on boring rainy afternoon. The journey this film takes you on is clever, interesting and totally engrossing.\"\n",
      "Round-trip:  what a [UNK] film even if it wasnt based on real life [UNK] [UNK] was a [UNK] [UNK] of a [UNK] [UNK] in her [UNK] and it is the kind of film [UNK] [UNK] could [UNK] to learn about [UNK] [UNK] br the [UNK] of [UNK] love [UNK] was [UNK] as a [UNK] in the [UNK] but this move really does give her [UNK] [UNK] to clear her [UNK] br but the [UNK] and turns she takes the documentary [UNK] through are amazing what a [UNK] woman i loved this movie i have not read the book but simply heard good reviews and went to see it on boring [UNK] [UNK] the [UNK] this film takes you on is [UNK] interesting and totally [UNK]                                                                                                                                                                                                                                                                                                                                                                                                                                                                                                             \n",
      "\n"
     ]
    }
   ],
   "source": [
    "for n in range(3):\n",
    "  print(\"Original: \", example[n].numpy())\n",
    "  print(\"Round-trip: \", \" \".join(vocab[encoded_example[n]]))\n",
    "  print()"
   ]
  },
  {
   "cell_type": "code",
   "execution_count": 15,
   "id": "protected-harvey",
   "metadata": {},
   "outputs": [],
   "source": [
    "model = tf.keras.Sequential([\n",
    "    encoder,\n",
    "    tf.keras.layers.Embedding(\n",
    "        input_dim=len(encoder.get_vocabulary()),\n",
    "        output_dim=64,\n",
    "        # Use masking to handle the variable sequence lengths\n",
    "        mask_zero=True),\n",
    "    tf.keras.layers.Bidirectional(tf.keras.layers.LSTM(64)),\n",
    "    tf.keras.layers.Dense(64, activation='relu'),\n",
    "    tf.keras.layers.Dense(1)\n",
    "])"
   ]
  },
  {
   "cell_type": "code",
   "execution_count": 16,
   "id": "romance-result",
   "metadata": {},
   "outputs": [
    {
     "name": "stdout",
     "output_type": "stream",
     "text": [
      "[False, True, True, True, True]\n"
     ]
    }
   ],
   "source": [
    "print([layer.supports_masking for layer in model.layers])"
   ]
  },
  {
   "cell_type": "code",
   "execution_count": 17,
   "id": "attended-contribution",
   "metadata": {},
   "outputs": [
    {
     "name": "stdout",
     "output_type": "stream",
     "text": [
      "[0.01367362]\n"
     ]
    }
   ],
   "source": [
    "sample_text = ('The movie was cool. The animation and the graphics '\n",
    "               'were out of this world. I would recommend this movie.')\n",
    "predictions = model.predict(np.array([sample_text]))\n",
    "print(predictions[0])"
   ]
  },
  {
   "cell_type": "code",
   "execution_count": 18,
   "id": "equal-grounds",
   "metadata": {},
   "outputs": [
    {
     "name": "stdout",
     "output_type": "stream",
     "text": [
      "[0.01367362]\n"
     ]
    }
   ],
   "source": [
    "# predict on a sample text with padding\n",
    "\n",
    "padding = \"the \" * 2000\n",
    "predictions = model.predict(np.array([sample_text, padding]))\n",
    "print(predictions[0])"
   ]
  },
  {
   "cell_type": "code",
   "execution_count": 19,
   "id": "breathing-military",
   "metadata": {},
   "outputs": [],
   "source": [
    "model.compile(loss=tf.keras.losses.BinaryCrossentropy(from_logits=True),\n",
    "              optimizer=tf.keras.optimizers.Adam(1e-4),\n",
    "              metrics=['accuracy'])"
   ]
  },
  {
   "cell_type": "code",
   "execution_count": null,
   "id": "aging-asthma",
   "metadata": {},
   "outputs": [
    {
     "name": "stdout",
     "output_type": "stream",
     "text": [
      "Epoch 1/3\n",
      "391/391 [==============================] - 1014s 3s/step - loss: 0.6224 - accuracy: 0.5925 - val_loss: 0.4624 - val_accuracy: 0.7786\n",
      "Epoch 2/3\n",
      "391/391 [==============================] - 980s 3s/step - loss: 0.3892 - accuracy: 0.8216 - val_loss: 0.3637 - val_accuracy: 0.8245\n",
      "Epoch 3/3\n",
      "391/391 [==============================] - 1136s 3s/step - loss: 0.3359 - accuracy: 0.8532 - val_loss: 0.3471 - val_accuracy: 0.8318\n",
      "367/391 [===========================>..] - ETA: 12s - loss: 0.3346 - accuracy: 0.8392"
     ]
    }
   ],
   "source": [
    "history = model.fit(train_dataset, epochs=3,\n",
    "                    validation_data=test_dataset,\n",
    "                    validation_steps=30)\n",
    "\n",
    "test_loss, test_acc = model.evaluate(test_dataset)"
   ]
  },
  {
   "cell_type": "code",
   "execution_count": null,
   "id": "modified-trace",
   "metadata": {},
   "outputs": [],
   "source": [
    "print('Test Loss:', test_loss)\n",
    "print('Test Accuracy:', test_acc)"
   ]
  },
  {
   "cell_type": "code",
   "execution_count": null,
   "id": "correct-obligation",
   "metadata": {},
   "outputs": [],
   "source": []
  }
 ],
 "metadata": {
  "kernelspec": {
   "display_name": "Python 3",
   "language": "python",
   "name": "python3"
  },
  "language_info": {
   "codemirror_mode": {
    "name": "ipython",
    "version": 3
   },
   "file_extension": ".py",
   "mimetype": "text/x-python",
   "name": "python",
   "nbconvert_exporter": "python",
   "pygments_lexer": "ipython3",
   "version": "3.7.4"
  }
 },
 "nbformat": 4,
 "nbformat_minor": 5
}
